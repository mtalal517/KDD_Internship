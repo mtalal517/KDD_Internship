{
 "cells": [
  {
   "cell_type": "markdown",
   "metadata": {},
   "source": [
    "## Load Datasets"
   ]
  },
  {
   "cell_type": "code",
   "execution_count": null,
   "metadata": {},
   "outputs": [],
   "source": [
    "from datasets import load_dataset\n",
    "\n",
    "ds = load_dataset(\"ccdv/pubmed-summarization\", \"document\")"
   ]
  },
  {
   "cell_type": "code",
   "execution_count": null,
   "metadata": {},
   "outputs": [],
   "source": [
    "import pandas as pd\n",
    "\n",
    "# Convert dataset to pandas DataFrame\n",
    "train_df = pd.DataFrame(ds['train'])\n",
    "test_df = pd.DataFrame(ds['test'])\n",
    "validation_df = pd.DataFrame(ds['validation'])"
   ]
  },
  {
   "cell_type": "markdown",
   "metadata": {},
   "source": [
    "### OR"
   ]
  },
  {
   "cell_type": "code",
   "execution_count": 1,
   "metadata": {},
   "outputs": [],
   "source": [
    "# read csv file using pandas\n",
    "import re\n",
    "import pandas as pd\n",
    "train_df=pd.read_csv('train.csv')\n",
    "test_df=pd.read_csv('test.csv')\n",
    "validation_df=pd.read_csv('validation.csv')"
   ]
  },
  {
   "cell_type": "markdown",
   "metadata": {},
   "source": [
    "## Dataset Structure"
   ]
  },
  {
   "cell_type": "markdown",
   "metadata": {},
   "source": [
    "### Shape"
   ]
  },
  {
   "cell_type": "code",
   "execution_count": 2,
   "metadata": {},
   "outputs": [
    {
     "name": "stdout",
     "output_type": "stream",
     "text": [
      "Training : (119924, 2)\n",
      "Testing : (6658, 2)\n",
      "Validation : (6633, 2)\n"
     ]
    }
   ],
   "source": [
    "print(\"Training :\",train_df.shape)\n",
    "print(\"Testing :\",test_df.shape)\n",
    "print(\"Validation :\",validation_df.shape)\n"
   ]
  },
  {
   "cell_type": "markdown",
   "metadata": {},
   "source": [
    "## Content"
   ]
  },
  {
   "cell_type": "code",
   "execution_count": 3,
   "metadata": {},
   "outputs": [
    {
     "data": {
      "text/html": [
       "<div>\n",
       "<style scoped>\n",
       "    .dataframe tbody tr th:only-of-type {\n",
       "        vertical-align: middle;\n",
       "    }\n",
       "\n",
       "    .dataframe tbody tr th {\n",
       "        vertical-align: top;\n",
       "    }\n",
       "\n",
       "    .dataframe thead th {\n",
       "        text-align: right;\n",
       "    }\n",
       "</style>\n",
       "<table border=\"1\" class=\"dataframe\">\n",
       "  <thead>\n",
       "    <tr style=\"text-align: right;\">\n",
       "      <th></th>\n",
       "      <th>article</th>\n",
       "      <th>abstract</th>\n",
       "    </tr>\n",
       "  </thead>\n",
       "  <tbody>\n",
       "    <tr>\n",
       "      <th>0</th>\n",
       "      <td>a recent systematic analysis showed that in 20...</td>\n",
       "      <td>background : the present study was carried out...</td>\n",
       "    </tr>\n",
       "    <tr>\n",
       "      <th>1</th>\n",
       "      <td>it occurs in more than 50% of patients and may...</td>\n",
       "      <td>backgroundanemia in patients with cancer who a...</td>\n",
       "    </tr>\n",
       "    <tr>\n",
       "      <th>2</th>\n",
       "      <td>tardive dystonia ( td ) , a rarer side effect ...</td>\n",
       "      <td>tardive dystonia ( td ) is a serious side effe...</td>\n",
       "    </tr>\n",
       "    <tr>\n",
       "      <th>3</th>\n",
       "      <td>lepidoptera include agricultural pests that , ...</td>\n",
       "      <td>many lepidopteran insects are agricultural pes...</td>\n",
       "    </tr>\n",
       "    <tr>\n",
       "      <th>4</th>\n",
       "      <td>syncope is caused by transient diffuse cerebra...</td>\n",
       "      <td>we present an unusual case of recurrent cough ...</td>\n",
       "    </tr>\n",
       "  </tbody>\n",
       "</table>\n",
       "</div>"
      ],
      "text/plain": [
       "                                             article  \\\n",
       "0  a recent systematic analysis showed that in 20...   \n",
       "1  it occurs in more than 50% of patients and may...   \n",
       "2  tardive dystonia ( td ) , a rarer side effect ...   \n",
       "3  lepidoptera include agricultural pests that , ...   \n",
       "4  syncope is caused by transient diffuse cerebra...   \n",
       "\n",
       "                                            abstract  \n",
       "0  background : the present study was carried out...  \n",
       "1  backgroundanemia in patients with cancer who a...  \n",
       "2  tardive dystonia ( td ) is a serious side effe...  \n",
       "3  many lepidopteran insects are agricultural pes...  \n",
       "4  we present an unusual case of recurrent cough ...  "
      ]
     },
     "execution_count": 3,
     "metadata": {},
     "output_type": "execute_result"
    }
   ],
   "source": [
    "train_df.head()"
   ]
  },
  {
   "cell_type": "code",
   "execution_count": 4,
   "metadata": {},
   "outputs": [
    {
     "data": {
      "text/html": [
       "<div>\n",
       "<style scoped>\n",
       "    .dataframe tbody tr th:only-of-type {\n",
       "        vertical-align: middle;\n",
       "    }\n",
       "\n",
       "    .dataframe tbody tr th {\n",
       "        vertical-align: top;\n",
       "    }\n",
       "\n",
       "    .dataframe thead th {\n",
       "        text-align: right;\n",
       "    }\n",
       "</style>\n",
       "<table border=\"1\" class=\"dataframe\">\n",
       "  <thead>\n",
       "    <tr style=\"text-align: right;\">\n",
       "      <th></th>\n",
       "      <th>article</th>\n",
       "      <th>abstract</th>\n",
       "    </tr>\n",
       "  </thead>\n",
       "  <tbody>\n",
       "    <tr>\n",
       "      <th>0</th>\n",
       "      <td>anxiety affects quality of life in those livin...</td>\n",
       "      <td>research on the implications of anxiety in par...</td>\n",
       "    </tr>\n",
       "    <tr>\n",
       "      <th>1</th>\n",
       "      <td>small non - coding rnas are transcribed into m...</td>\n",
       "      <td>small non - coding rnas include sirna , mirna ...</td>\n",
       "    </tr>\n",
       "    <tr>\n",
       "      <th>2</th>\n",
       "      <td>ohss is a serious complication of ovulation in...</td>\n",
       "      <td>objective : to evaluate the efficacy and safet...</td>\n",
       "    </tr>\n",
       "    <tr>\n",
       "      <th>3</th>\n",
       "      <td>congenital adrenal hyperplasia ( cah ) refers ...</td>\n",
       "      <td>congenital adrenal hyperplasia is a group of a...</td>\n",
       "    </tr>\n",
       "    <tr>\n",
       "      <th>4</th>\n",
       "      <td>type 1 diabetes ( t1d ) results from the destr...</td>\n",
       "      <td>objective(s):pentoxifylline is an immunomodula...</td>\n",
       "    </tr>\n",
       "  </tbody>\n",
       "</table>\n",
       "</div>"
      ],
      "text/plain": [
       "                                             article  \\\n",
       "0  anxiety affects quality of life in those livin...   \n",
       "1  small non - coding rnas are transcribed into m...   \n",
       "2  ohss is a serious complication of ovulation in...   \n",
       "3  congenital adrenal hyperplasia ( cah ) refers ...   \n",
       "4  type 1 diabetes ( t1d ) results from the destr...   \n",
       "\n",
       "                                            abstract  \n",
       "0  research on the implications of anxiety in par...  \n",
       "1  small non - coding rnas include sirna , mirna ...  \n",
       "2  objective : to evaluate the efficacy and safet...  \n",
       "3  congenital adrenal hyperplasia is a group of a...  \n",
       "4  objective(s):pentoxifylline is an immunomodula...  "
      ]
     },
     "execution_count": 4,
     "metadata": {},
     "output_type": "execute_result"
    }
   ],
   "source": [
    "test_df.head()"
   ]
  },
  {
   "cell_type": "code",
   "execution_count": 5,
   "metadata": {},
   "outputs": [
    {
     "data": {
      "text/html": [
       "<div>\n",
       "<style scoped>\n",
       "    .dataframe tbody tr th:only-of-type {\n",
       "        vertical-align: middle;\n",
       "    }\n",
       "\n",
       "    .dataframe tbody tr th {\n",
       "        vertical-align: top;\n",
       "    }\n",
       "\n",
       "    .dataframe thead th {\n",
       "        text-align: right;\n",
       "    }\n",
       "</style>\n",
       "<table border=\"1\" class=\"dataframe\">\n",
       "  <thead>\n",
       "    <tr style=\"text-align: right;\">\n",
       "      <th></th>\n",
       "      <th>article</th>\n",
       "      <th>abstract</th>\n",
       "    </tr>\n",
       "  </thead>\n",
       "  <tbody>\n",
       "    <tr>\n",
       "      <th>0</th>\n",
       "      <td>venous thromboembolism ( vte ) comprising of d...</td>\n",
       "      <td>background and aim : there is lack of substant...</td>\n",
       "    </tr>\n",
       "    <tr>\n",
       "      <th>1</th>\n",
       "      <td>there is an epidemic of stroke in low and midd...</td>\n",
       "      <td>backgroundthe questionnaire for verifying stro...</td>\n",
       "    </tr>\n",
       "    <tr>\n",
       "      <th>2</th>\n",
       "      <td>cardiovascular diseases account for the highes...</td>\n",
       "      <td>background : timely access to cardiovascular h...</td>\n",
       "    </tr>\n",
       "    <tr>\n",
       "      <th>3</th>\n",
       "      <td>results of a liquid culturing system ( bd bact...</td>\n",
       "      <td>to determine differences in the ability of myc...</td>\n",
       "    </tr>\n",
       "    <tr>\n",
       "      <th>4</th>\n",
       "      <td>the need for magnetic resonance imaging ( mri ...</td>\n",
       "      <td>aimsour aim was to evaluate the potential for ...</td>\n",
       "    </tr>\n",
       "  </tbody>\n",
       "</table>\n",
       "</div>"
      ],
      "text/plain": [
       "                                             article  \\\n",
       "0  venous thromboembolism ( vte ) comprising of d...   \n",
       "1  there is an epidemic of stroke in low and midd...   \n",
       "2  cardiovascular diseases account for the highes...   \n",
       "3  results of a liquid culturing system ( bd bact...   \n",
       "4  the need for magnetic resonance imaging ( mri ...   \n",
       "\n",
       "                                            abstract  \n",
       "0  background and aim : there is lack of substant...  \n",
       "1  backgroundthe questionnaire for verifying stro...  \n",
       "2  background : timely access to cardiovascular h...  \n",
       "3  to determine differences in the ability of myc...  \n",
       "4  aimsour aim was to evaluate the potential for ...  "
      ]
     },
     "execution_count": 5,
     "metadata": {},
     "output_type": "execute_result"
    }
   ],
   "source": [
    "validation_df.head()"
   ]
  },
  {
   "cell_type": "markdown",
   "metadata": {},
   "source": [
    "## EDA"
   ]
  },
  {
   "cell_type": "code",
   "execution_count": 6,
   "metadata": {},
   "outputs": [
    {
     "data": {
      "text/plain": [
       "article     2692\n",
       "abstract       0\n",
       "dtype: int64"
      ]
     },
     "execution_count": 6,
     "metadata": {},
     "output_type": "execute_result"
    }
   ],
   "source": [
    "train_df.isnull().sum()"
   ]
  },
  {
   "cell_type": "code",
   "execution_count": 7,
   "metadata": {},
   "outputs": [
    {
     "data": {
      "text/plain": [
       "article     0\n",
       "abstract    0\n",
       "dtype: int64"
      ]
     },
     "execution_count": 7,
     "metadata": {},
     "output_type": "execute_result"
    }
   ],
   "source": [
    "test_df.isnull().sum()"
   ]
  },
  {
   "cell_type": "code",
   "execution_count": 8,
   "metadata": {},
   "outputs": [
    {
     "data": {
      "text/plain": [
       "article     0\n",
       "abstract    0\n",
       "dtype: int64"
      ]
     },
     "execution_count": 8,
     "metadata": {},
     "output_type": "execute_result"
    }
   ],
   "source": [
    "validation_df.isnull().sum()"
   ]
  },
  {
   "cell_type": "markdown",
   "metadata": {},
   "source": [
    "## Drop Null values"
   ]
  },
  {
   "cell_type": "code",
   "execution_count": 9,
   "metadata": {},
   "outputs": [],
   "source": [
    "# drop null values\n",
    "train_df.dropna(inplace=True)"
   ]
  },
  {
   "cell_type": "code",
   "execution_count": 10,
   "metadata": {},
   "outputs": [
    {
     "data": {
      "text/plain": [
       "(117232, 2)"
      ]
     },
     "execution_count": 10,
     "metadata": {},
     "output_type": "execute_result"
    }
   ],
   "source": [
    "train_df.shape"
   ]
  },
  {
   "cell_type": "markdown",
   "metadata": {},
   "source": [
    "## CLeaning Dataset"
   ]
  },
  {
   "cell_type": "code",
   "execution_count": null,
   "metadata": {},
   "outputs": [],
   "source": []
  },
  {
   "cell_type": "code",
   "execution_count": 11,
   "metadata": {},
   "outputs": [],
   "source": [
    "import string\n",
    "import re\n",
    "import contractions\n",
    "from nltk.corpus import stopwords\n",
    "from nltk.tokenize import word_tokenize\n",
    "from nltk.stem import WordNetLemmatizer\n",
    "\n",
    "\n",
    "def preprocess_text(text):\n",
    "    # Expand contractions\n",
    "    text = contractions.fix(text)\n",
    "    \n",
    "    # Convert to lowercase\n",
    "    text = text.lower()\n",
    "    \n",
    "    # Remove punctuation\n",
    "    text = text.translate(str.maketrans('', '', string.punctuation))\n",
    "    \n",
    "    # Remove numbers\n",
    "    text = re.sub(r'\\d+', '', text)\n",
    "    \n",
    "    # Remove whitespace\n",
    "    text = text.strip()\n",
    "    text = re.sub(r'\\s+', ' ', text)\n",
    "    \n",
    "    # Tokenize\n",
    "    tokens = word_tokenize(text)\n",
    "    \n",
    "    # Remove stopwords\n",
    "    stop_words = set(stopwords.words('english'))\n",
    "    tokens = [word for word in tokens if word not in stop_words]\n",
    "    \n",
    "    # Lemmatize\n",
    "    lemmatizer = WordNetLemmatizer()\n",
    "    tokens = [lemmatizer.lemmatize(token) for token in tokens]\n",
    "    \n",
    "    # Join tokens back to string\n",
    "    cleaned_text = ' '.join(tokens)\n",
    "    \n",
    "    return cleaned_text"
   ]
  },
  {
   "cell_type": "code",
   "execution_count": 12,
   "metadata": {},
   "outputs": [],
   "source": [
    "train_df['article'] = train_df['article'].apply(preprocess_text)"
   ]
  },
  {
   "cell_type": "code",
   "execution_count": 13,
   "metadata": {},
   "outputs": [],
   "source": [
    "train_df['abstract'] = train_df['abstract'].apply(preprocess_text)"
   ]
  },
  {
   "cell_type": "code",
   "execution_count": 14,
   "metadata": {},
   "outputs": [],
   "source": [
    "test_df['article'] = test_df['article'].apply(preprocess_text)  "
   ]
  },
  {
   "cell_type": "code",
   "execution_count": 15,
   "metadata": {},
   "outputs": [],
   "source": [
    "test_df['abstract'] = test_df['abstract'].apply(preprocess_text)"
   ]
  },
  {
   "cell_type": "code",
   "execution_count": 16,
   "metadata": {},
   "outputs": [],
   "source": [
    "validation_df['article'] = validation_df['article'].apply(preprocess_text)"
   ]
  },
  {
   "cell_type": "code",
   "execution_count": 17,
   "metadata": {},
   "outputs": [],
   "source": [
    "validation_df['abstract'] = validation_df['abstract'].apply(preprocess_text)"
   ]
  },
  {
   "cell_type": "markdown",
   "metadata": {},
   "source": [
    "## Check Dataset"
   ]
  },
  {
   "cell_type": "code",
   "execution_count": 18,
   "metadata": {},
   "outputs": [
    {
     "data": {
      "text/html": [
       "<div>\n",
       "<style scoped>\n",
       "    .dataframe tbody tr th:only-of-type {\n",
       "        vertical-align: middle;\n",
       "    }\n",
       "\n",
       "    .dataframe tbody tr th {\n",
       "        vertical-align: top;\n",
       "    }\n",
       "\n",
       "    .dataframe thead th {\n",
       "        text-align: right;\n",
       "    }\n",
       "</style>\n",
       "<table border=\"1\" class=\"dataframe\">\n",
       "  <thead>\n",
       "    <tr style=\"text-align: right;\">\n",
       "      <th></th>\n",
       "      <th>article</th>\n",
       "      <th>abstract</th>\n",
       "    </tr>\n",
       "  </thead>\n",
       "  <tbody>\n",
       "    <tr>\n",
       "      <th>0</th>\n",
       "      <td>recent systematic analysis showed million chil...</td>\n",
       "      <td>background present study carried ass effect co...</td>\n",
       "    </tr>\n",
       "    <tr>\n",
       "      <th>1</th>\n",
       "      <td>occurs patient may reach certain type cancer e...</td>\n",
       "      <td>backgroundanemia patient cancer undergoing act...</td>\n",
       "    </tr>\n",
       "    <tr>\n",
       "      <th>2</th>\n",
       "      <td>tardive dystonia td rarer side effect longer e...</td>\n",
       "      <td>tardive dystonia td serious side effect antips...</td>\n",
       "    </tr>\n",
       "    <tr>\n",
       "      <th>3</th>\n",
       "      <td>lepidoptera include agricultural pest feeding ...</td>\n",
       "      <td>many lepidopteran insect agricultural pest aff...</td>\n",
       "    </tr>\n",
       "    <tr>\n",
       "      <th>4</th>\n",
       "      <td>syncope caused transient diffuse cerebral hypo...</td>\n",
       "      <td>present unusual case recurrent cough syncope y...</td>\n",
       "    </tr>\n",
       "  </tbody>\n",
       "</table>\n",
       "</div>"
      ],
      "text/plain": [
       "                                             article  \\\n",
       "0  recent systematic analysis showed million chil...   \n",
       "1  occurs patient may reach certain type cancer e...   \n",
       "2  tardive dystonia td rarer side effect longer e...   \n",
       "3  lepidoptera include agricultural pest feeding ...   \n",
       "4  syncope caused transient diffuse cerebral hypo...   \n",
       "\n",
       "                                            abstract  \n",
       "0  background present study carried ass effect co...  \n",
       "1  backgroundanemia patient cancer undergoing act...  \n",
       "2  tardive dystonia td serious side effect antips...  \n",
       "3  many lepidopteran insect agricultural pest aff...  \n",
       "4  present unusual case recurrent cough syncope y...  "
      ]
     },
     "execution_count": 18,
     "metadata": {},
     "output_type": "execute_result"
    }
   ],
   "source": [
    "train_df.head()"
   ]
  },
  {
   "cell_type": "code",
   "execution_count": 19,
   "metadata": {},
   "outputs": [
    {
     "data": {
      "text/html": [
       "<div>\n",
       "<style scoped>\n",
       "    .dataframe tbody tr th:only-of-type {\n",
       "        vertical-align: middle;\n",
       "    }\n",
       "\n",
       "    .dataframe tbody tr th {\n",
       "        vertical-align: top;\n",
       "    }\n",
       "\n",
       "    .dataframe thead th {\n",
       "        text-align: right;\n",
       "    }\n",
       "</style>\n",
       "<table border=\"1\" class=\"dataframe\">\n",
       "  <thead>\n",
       "    <tr style=\"text-align: right;\">\n",
       "      <th></th>\n",
       "      <th>article</th>\n",
       "      <th>abstract</th>\n",
       "    </tr>\n",
       "  </thead>\n",
       "  <tbody>\n",
       "    <tr>\n",
       "      <th>0</th>\n",
       "      <td>anxiety affect quality life living parkinson d...</td>\n",
       "      <td>research implication anxiety parkinson disease...</td>\n",
       "    </tr>\n",
       "    <tr>\n",
       "      <th>1</th>\n",
       "      <td>small non coding rna transcribed mrna remain u...</td>\n",
       "      <td>small non coding rna include sirna mirna pirna...</td>\n",
       "    </tr>\n",
       "    <tr>\n",
       "      <th>2</th>\n",
       "      <td>oh serious complication ovulation induction oc...</td>\n",
       "      <td>objective evaluate efficacy safety outpatient ...</td>\n",
       "    </tr>\n",
       "    <tr>\n",
       "      <th>3</th>\n",
       "      <td>congenital adrenal hyperplasia cah refers grou...</td>\n",
       "      <td>congenital adrenal hyperplasia group autosomal...</td>\n",
       "    </tr>\n",
       "    <tr>\n",
       "      <th>4</th>\n",
       "      <td>type diabetes td result destruction insulin pr...</td>\n",
       "      <td>objectivespentoxifylline immunomodulatory anti...</td>\n",
       "    </tr>\n",
       "  </tbody>\n",
       "</table>\n",
       "</div>"
      ],
      "text/plain": [
       "                                             article  \\\n",
       "0  anxiety affect quality life living parkinson d...   \n",
       "1  small non coding rna transcribed mrna remain u...   \n",
       "2  oh serious complication ovulation induction oc...   \n",
       "3  congenital adrenal hyperplasia cah refers grou...   \n",
       "4  type diabetes td result destruction insulin pr...   \n",
       "\n",
       "                                            abstract  \n",
       "0  research implication anxiety parkinson disease...  \n",
       "1  small non coding rna include sirna mirna pirna...  \n",
       "2  objective evaluate efficacy safety outpatient ...  \n",
       "3  congenital adrenal hyperplasia group autosomal...  \n",
       "4  objectivespentoxifylline immunomodulatory anti...  "
      ]
     },
     "execution_count": 19,
     "metadata": {},
     "output_type": "execute_result"
    }
   ],
   "source": [
    "test_df.head()"
   ]
  },
  {
   "cell_type": "code",
   "execution_count": 20,
   "metadata": {},
   "outputs": [
    {
     "data": {
      "text/html": [
       "<div>\n",
       "<style scoped>\n",
       "    .dataframe tbody tr th:only-of-type {\n",
       "        vertical-align: middle;\n",
       "    }\n",
       "\n",
       "    .dataframe tbody tr th {\n",
       "        vertical-align: top;\n",
       "    }\n",
       "\n",
       "    .dataframe thead th {\n",
       "        text-align: right;\n",
       "    }\n",
       "</style>\n",
       "<table border=\"1\" class=\"dataframe\">\n",
       "  <thead>\n",
       "    <tr style=\"text-align: right;\">\n",
       "      <th></th>\n",
       "      <th>article</th>\n",
       "      <th>abstract</th>\n",
       "    </tr>\n",
       "  </thead>\n",
       "  <tbody>\n",
       "    <tr>\n",
       "      <th>0</th>\n",
       "      <td>venous thromboembolism vte comprising deep vei...</td>\n",
       "      <td>background aim lack substantial indian data ve...</td>\n",
       "    </tr>\n",
       "    <tr>\n",
       "      <th>1</th>\n",
       "      <td>epidemic stroke low middle income country due ...</td>\n",
       "      <td>backgroundthe questionnaire verifying stroke f...</td>\n",
       "    </tr>\n",
       "    <tr>\n",
       "      <th>2</th>\n",
       "      <td>cardiovascular disease account highest mortali...</td>\n",
       "      <td>background timely access cardiovascular health...</td>\n",
       "    </tr>\n",
       "    <tr>\n",
       "      <th>3</th>\n",
       "      <td>result liquid culturing system bd bactec mgit ...</td>\n",
       "      <td>determine difference ability mycobacterium tub...</td>\n",
       "    </tr>\n",
       "    <tr>\n",
       "      <th>4</th>\n",
       "      <td>need magnetic resonance imaging mri patient im...</td>\n",
       "      <td>aimsour aim evaluate potential safely imaging ...</td>\n",
       "    </tr>\n",
       "  </tbody>\n",
       "</table>\n",
       "</div>"
      ],
      "text/plain": [
       "                                             article  \\\n",
       "0  venous thromboembolism vte comprising deep vei...   \n",
       "1  epidemic stroke low middle income country due ...   \n",
       "2  cardiovascular disease account highest mortali...   \n",
       "3  result liquid culturing system bd bactec mgit ...   \n",
       "4  need magnetic resonance imaging mri patient im...   \n",
       "\n",
       "                                            abstract  \n",
       "0  background aim lack substantial indian data ve...  \n",
       "1  backgroundthe questionnaire verifying stroke f...  \n",
       "2  background timely access cardiovascular health...  \n",
       "3  determine difference ability mycobacterium tub...  \n",
       "4  aimsour aim evaluate potential safely imaging ...  "
      ]
     },
     "execution_count": 20,
     "metadata": {},
     "output_type": "execute_result"
    }
   ],
   "source": [
    "validation_df.head()"
   ]
  },
  {
   "cell_type": "markdown",
   "metadata": {},
   "source": [
    "## Summarizing"
   ]
  },
  {
   "cell_type": "code",
   "execution_count": 24,
   "metadata": {},
   "outputs": [
    {
     "name": "stderr",
     "output_type": "stream",
     "text": [
      "[nltk_data] Downloading package punkt to\n",
      "[nltk_data]     C:\\Users\\mtala\\AppData\\Roaming\\nltk_data...\n",
      "[nltk_data]   Package punkt is already up-to-date!\n",
      "[nltk_data] Downloading package stopwords to\n",
      "[nltk_data]     C:\\Users\\mtala\\AppData\\Roaming\\nltk_data...\n",
      "[nltk_data]   Package stopwords is already up-to-date!\n"
     ]
    }
   ],
   "source": [
    "import pandas as pd\n",
    "import nltk\n",
    "from nltk.tokenize import sent_tokenize, word_tokenize\n",
    "from nltk.corpus import stopwords\n",
    "from collections import Counter\n",
    "\n",
    "# Ensure NLTK resources are downloaded\n",
    "nltk.download('punkt')\n",
    "nltk.download('stopwords')\n",
    "\n",
    "# Define a function to score sentences\n",
    "def score_sentences(text):\n",
    "    stop_words = set(stopwords.words('english'))\n",
    "    words = word_tokenize(text)\n",
    "    word_freq = Counter(words)\n",
    "    \n",
    "    # Remove stopwords and low frequency words\n",
    "    for stopword in stop_words:\n",
    "        if stopword in word_freq:\n",
    "            del word_freq[stopword]\n",
    "    \n",
    "    sentences = sent_tokenize(text)\n",
    "    sentence_scores = {}\n",
    "    \n",
    "    for sentence in sentences:\n",
    "        for word in word_tokenize(sentence.lower()):\n",
    "            if word in word_freq:\n",
    "                if sentence not in sentence_scores:\n",
    "                    sentence_scores[sentence] = word_freq[word]\n",
    "                else:\n",
    "                    sentence_scores[sentence] += word_freq[word]\n",
    "                    \n",
    "    return sentence_scores\n",
    "\n",
    "def summarize_text(text, n=3):\n",
    "    sentence_scores = score_sentences(text)\n",
    "    top_sentences = sorted(sentence_scores, key=sentence_scores.get, reverse=True)[:n]\n",
    "    abstract = ' '.join(top_sentences)\n",
    "    return abstract\n"
   ]
  },
  {
   "cell_type": "code",
   "execution_count": 25,
   "metadata": {},
   "outputs": [],
   "source": [
    "train_df['abstract'] = train_df['article'].apply(lambda x: summarize_text(x))\n",
    "test_df['abstract'] = test_df['article'].apply(lambda x: summarize_text(x))\n",
    "validation_df['abstract'] = validation_df['article'].apply(lambda x: summarize_text(x))"
   ]
  },
  {
   "cell_type": "code",
   "execution_count": 26,
   "metadata": {},
   "outputs": [],
   "source": [
    "train_df.to_csv('train_summarized.csv', index=False)\n",
    "test_df.to_csv('test_summarized.csv', index=False)\n",
    "validation_df.to_csv('validation_summarized.csv', index=False)"
   ]
  },
  {
   "cell_type": "code",
   "execution_count": 27,
   "metadata": {},
   "outputs": [
    {
     "name": "stdout",
     "output_type": "stream",
     "text": [
      "                                             article  \\\n",
      "0  recent systematic analysis showed million chil...   \n",
      "1  occurs patient may reach certain type cancer e...   \n",
      "2  tardive dystonia td rarer side effect longer e...   \n",
      "3  lepidoptera include agricultural pest feeding ...   \n",
      "4  syncope caused transient diffuse cerebral hypo...   \n",
      "\n",
      "                                            abstract  \n",
      "0  recent systematic analysis showed million chil...  \n",
      "1  occurs patient may reach certain type cancer e...  \n",
      "2  tardive dystonia td rarer side effect longer e...  \n",
      "3  lepidoptera include agricultural pest feeding ...  \n",
      "4  syncope caused transient diffuse cerebral hypo...  \n",
      "                                             article  \\\n",
      "0  anxiety affect quality life living parkinson d...   \n",
      "1  small non coding rna transcribed mrna remain u...   \n",
      "2  oh serious complication ovulation induction oc...   \n",
      "3  congenital adrenal hyperplasia cah refers grou...   \n",
      "4  type diabetes td result destruction insulin pr...   \n",
      "\n",
      "                                            abstract  \n",
      "0  anxiety affect quality life living parkinson d...  \n",
      "1  small non coding rna transcribed mrna remain u...  \n",
      "2  oh serious complication ovulation induction oc...  \n",
      "3  congenital adrenal hyperplasia cah refers grou...  \n",
      "4  type diabetes td result destruction insulin pr...  \n",
      "                                             article  \\\n",
      "0  venous thromboembolism vte comprising deep vei...   \n",
      "1  epidemic stroke low middle income country due ...   \n",
      "2  cardiovascular disease account highest mortali...   \n",
      "3  result liquid culturing system bd bactec mgit ...   \n",
      "4  need magnetic resonance imaging mri patient im...   \n",
      "\n",
      "                                            abstract  \n",
      "0  venous thromboembolism vte comprising deep vei...  \n",
      "1  epidemic stroke low middle income country due ...  \n",
      "2  cardiovascular disease account highest mortali...  \n",
      "3  result liquid culturing system bd bactec mgit ...  \n",
      "4  need magnetic resonance imaging mri patient im...  \n"
     ]
    }
   ],
   "source": [
    "print(train_df[['article', 'abstract']].head())\n",
    "print(test_df[['article', 'abstract']].head())\n",
    "print(validation_df[['article', 'abstract']].head())"
   ]
  },
  {
   "cell_type": "code",
   "execution_count": null,
   "metadata": {},
   "outputs": [],
   "source": []
  }
 ],
 "metadata": {
  "kernelspec": {
   "display_name": "Python 3",
   "language": "python",
   "name": "python3"
  },
  "language_info": {
   "codemirror_mode": {
    "name": "ipython",
    "version": 3
   },
   "file_extension": ".py",
   "mimetype": "text/x-python",
   "name": "python",
   "nbconvert_exporter": "python",
   "pygments_lexer": "ipython3",
   "version": "3.12.2"
  }
 },
 "nbformat": 4,
 "nbformat_minor": 2
}
